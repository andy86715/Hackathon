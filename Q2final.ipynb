{
 "cells": [
  {
   "cell_type": "code",
   "execution_count": 2,
   "metadata": {
    "collapsed": false
   },
   "outputs": [
    {
     "name": "stderr",
     "output_type": "stream",
     "text": [
      "/Users/andy/anaconda/lib/python3.6/site-packages/sklearn/cross_validation.py:44: DeprecationWarning: This module was deprecated in version 0.18 in favor of the model_selection module into which all the refactored classes and functions are moved. Also note that the interface of the new CV iterators are different from that of this module. This module will be removed in 0.20.\n",
      "  \"This module will be removed in 0.20.\", DeprecationWarning)\n"
     ]
    }
   ],
   "source": [
    "#匯入套件\n",
    "import json\n",
    "import fnmatch\n",
    "import os\n",
    "import pandas as pd\n",
    "import matplotlib.pyplot as plt\n",
    "import numpy as np\n",
    "import seaborn as sns\n",
    "import random\n",
    "from tqdm import tqdm\n",
    "\n",
    "#Models\n",
    "from sklearn import metrics\n",
    "from sklearn import preprocessing\n",
    "from sklearn.preprocessing import LabelEncoder\n",
    "from sklearn.cross_validation import train_test_split\n",
    "from sklearn.neighbors import KNeighborsClassifier\n",
    "from sklearn.metrics import accuracy_score"
   ]
  },
  {
   "cell_type": "code",
   "execution_count": 12,
   "metadata": {
    "collapsed": false
   },
   "outputs": [
    {
     "data": {
      "text/plain": [
       "['user_id']"
      ]
     },
     "execution_count": 12,
     "metadata": {},
     "output_type": "execute_result"
    }
   ],
   "source": [
    "#匯入training data\n",
    "dic={} \n",
    "with open(\"/Users/andy/Desktop/2017學習數據分析黑客松/hack_training.csv\", 'r') as f:  \n",
    "    for line in f: \n",
    "        course=line.split(',')[0] \n",
    "        userid =line.split(',')[1] \n",
    "        if course not in dic: \n",
    "            dic[course]=[userid]\n",
    "        else: \n",
    "            dic[course].append(userid)\n",
    "dic.pop('course_id')"
   ]
  },
  {
   "cell_type": "code",
   "execution_count": null,
   "metadata": {
    "collapsed": false,
    "scrolled": false
   },
   "outputs": [
    {
     "name": "stderr",
     "output_type": "stream",
     "text": [
      "100%|██████████| 772/772 [01:21<00:00,  9.50it/s]\n",
      "100%|██████████| 2796/2796 [03:20<00:00, 13.97it/s]\n",
      "100%|██████████| 4680/4680 [17:57<00:00,  4.34it/s] \n",
      " 87%|████████▋ | 2578/2979 [19:06<02:58,  2.25it/s]"
     ]
    }
   ],
   "source": [
    "#載入所有資料\n",
    "data = []\n",
    "error_data = []\n",
    "for i in range(4,8):\n",
    "    for name in tqdm(os.listdir(\"/Users/andy/Desktop/2017學習數據分析黑客松/hack_log_201\"+str(i))):\n",
    "        with open('/Users/andy/Desktop/2017學習數據分析黑客松/hack_log_201'+str(i)+\"/\"+name, 'r') as f:\n",
    "            for line in f:\n",
    "                try:\n",
    "                     if json.loads(line)['context']['course_id'] in dic:\n",
    "                            if str(json.loads(line)['context']['user_id']) in dic[json.loads(line)['context']['course_id']]:\n",
    "                                data.append(json.loads(line))\n",
    "                except:\n",
    "                    error_data.append((line,f)) "
   ]
  },
  {
   "cell_type": "code",
   "execution_count": 10,
   "metadata": {
    "collapsed": true
   },
   "outputs": [],
   "source": [
    "#匯入training data\n",
    "train = pd.read_csv(\"/Users/andy/Desktop/2017學習數據分析黑客松/hack_training.csv\")"
   ]
  },
  {
   "cell_type": "code",
   "execution_count": 14,
   "metadata": {
    "collapsed": false
   },
   "outputs": [
    {
     "name": "stderr",
     "output_type": "stream",
     "text": [
      "100%|██████████| 100000/100000 [00:04<00:00, 21588.25it/s]\n"
     ]
    }
   ],
   "source": [
    "#全部的data取出training data要的資料\n",
    "num=1\n",
    "dict1={}\n",
    "col=[\"['context']['course_id']\",\"['context']['session']\",\"['context']['user_id']\",\"['event_type']\",\"['event']['id']\",\"['event']['currentTime']\",\"['time']\"]\n",
    "for a in tqdm(range(len(data1))):\n",
    "    content=[]\n",
    "    try:\n",
    "        content.append(data1[a]['context']['course_id'])\n",
    "    except:\n",
    "        content.append(np.nan)\n",
    "    try:\n",
    "        content.append(data1[a]['context']['session'])\n",
    "    except:\n",
    "        content.append(np.nan)\n",
    "    try:\n",
    "        content.append(data1[a]['context']['user_id'])\n",
    "    except:\n",
    "        content.append(np.nan)\n",
    "    try:\n",
    "        content.append(data1[a]['event_type'])\n",
    "    except:\n",
    "        content.append(np.nan)\n",
    "    try:\n",
    "        content.append(json.loads(data1[0]['event'])['id'])\n",
    "    except:\n",
    "        content.append(np.nan)\n",
    "    try:\n",
    "        content.append(json.loads(data1[a]['event'])['currentTime'])\n",
    "    except:\n",
    "        content.append(np.nan)\n",
    "    try:\n",
    "        content.append(data1[a]['time'])\n",
    "    except:\n",
    "        content.append(np.nan)\n",
    "    dict1[num]=content\n",
    "    num+=1"
   ]
  },
  {
   "cell_type": "code",
   "execution_count": 38,
   "metadata": {
    "collapsed": true
   },
   "outputs": [],
   "source": [
    "#轉成dataframe格式\n",
    "df=pd.DataFrame.from_dict(dict1,orient='index')\n",
    "df = df.rename(columns={0:'course_id',1:'session',2:'user_id',3:'event_type',4:'video_id',5:'currenttime',6:'time'})\n",
    "df.to_csv('all.csv')"
   ]
  },
  {
   "cell_type": "code",
   "execution_count": null,
   "metadata": {
    "collapsed": true
   },
   "outputs": [],
   "source": [
    "#匯入qusetion2資料\n",
    "train = pd.read_csv(\"/Users/andy/Desktop/2017學習數據分析黑客松/hack_question02.csv\")\n",
    "df = pd.read_csv('all.csv')"
   ]
  },
  {
   "cell_type": "code",
   "execution_count": 40,
   "metadata": {
    "collapsed": true,
    "scrolled": false
   },
   "outputs": [],
   "source": [
    "df2 = df[df['user_id']!=1653]\n",
    "# df3 = df2[df2['user_id']!=2472]"
   ]
  },
  {
   "cell_type": "code",
   "execution_count": null,
   "metadata": {
    "collapsed": true
   },
   "outputs": [],
   "source": [
    "# all_uid\n",
    "uid = df['user_id'].value_counts().index"
   ]
  },
  {
   "cell_type": "code",
   "execution_count": 42,
   "metadata": {
    "collapsed": true
   },
   "outputs": [],
   "source": [
    "# all_course_id\n",
    "k=train['course_id'].value_counts()\n",
    "classname=k.index"
   ]
  },
  {
   "cell_type": "code",
   "execution_count": null,
   "metadata": {
    "collapsed": true
   },
   "outputs": [],
   "source": [
    "#切天數\n",
    "df['date']=df['time'].str.split(\"T\").str[0]\n",
    "#切時間\n",
    "df['time1']=df['time'].str.split(\"T\").str[1]\n",
    "df['time1']=df['time1'].str.split(\".\").str[0]"
   ]
  },
  {
   "cell_type": "code",
   "execution_count": null,
   "metadata": {
    "collapsed": true
   },
   "outputs": [],
   "source": [
    "#把每個欄位匯入\n",
    "num=1\n",
    "fdic={}\n",
    "u_dic={}\n",
    "c_dic={}\n",
    "dc_dic={}\n",
    "vc_dic={}\n",
    "at_dic={}\n",
    "sc_dic={}\n",
    "se_dic={}\n",
    "pl_dic={}\n",
    "sevi_dic={}\n",
    "spva_dic={}\n",
    "\n",
    "#training的所有user\n",
    "for e_u in tqdm(uid):\n",
    "    k=df[df['user_id']==e_u]['course_id'].value_counts().index\n",
    "    #training裡面user的所有課程\n",
    "    for each in k:\n",
    "        dn=df[(df['user_id']==e_u) & (df['course_id']==each)]\n",
    "        #user_id\n",
    "        u_dic[num]=e_u\n",
    "        #course_id\n",
    "        c_dic[num]=each\n",
    "        #datecount\n",
    "        dc_dic[num]=len(dn['date'].value_counts())\n",
    "        #video_count\n",
    "        vc_dic[num]=len(dn['video_id'].value_counts())\n",
    "        #session_count\n",
    "        se_dic[num]=len(dn['session'].value_counts())\n",
    "        #影片觀看次數\n",
    "        a=0\n",
    "        session = []\n",
    "        for len_session in range(len(dn['session'].value_counts())):\n",
    "            if dn['session'] not in session:\n",
    "                session.append(dn['session'])\n",
    "                a+=len(dn['video_id'].value_counts())\n",
    "        sevi_dic[num] = a\n",
    "        #pause_count\n",
    "        pl_dic[num]=len(dn[dn['event_type']=='pause_video'])\n",
    "        #speed_change_count\n",
    "        sc_dic[num]=len(dn[dn['event_type']=='speed_change_video'])\n",
    "        #speed_change_value\n",
    "        speed = 0\n",
    "        speed+=(dn['new_speed']-dn['old_speed']).sum()\n",
    "        spva_dic[num]=speed\n",
    "        \n",
    "        #all_time\n",
    "        total=0\n",
    "        p=[]\n",
    "        n=dn.index\n",
    "        for a in n:\n",
    "            if dn['event_type'][a]=='play_video':\n",
    "                p.append(a)\n",
    "            elif dn['event_type'][a]=='pause_video' and p!=[]:\n",
    "                if dn['session'][a] == dn['session'][p[-1]]:\n",
    "                    d1=datetime.datetime.strptime(dn['time1'][a],\"%H:%M:%S\")\n",
    "                    d2=datetime.datetime.strptime(dn['time1'][p[-1]],\"%H:%M:%S\")\n",
    "                    diff=relativedelta(d1,d2)\n",
    "                    total+=int(diff.minutes)*60+int(diff.seconds)\n",
    "                p=[]\n",
    "        at_dic[num]=total                  \n",
    "        num+=1\n",
    "fdic['user_id']=u_dic\n",
    "fdic['course_id']=c_dic\n",
    "fdic['datecount']=dc_dic\n",
    "fdic['videocount']=vc_dic\n",
    "fdic['session_videocount']=se_dic\n",
    "fdic['totaltime']=at_dic\n",
    "fdic['sessioncount']=se_dic\n",
    "fdic['pause_video_count']=pl_dic\n",
    "fdic['speed_change_count']=sc_dic\n",
    "fdic['speed_change_value']=spva_dic\n",
    "fdf=pd.DataFrame.from_dict(fdic)"
   ]
  },
  {
   "cell_type": "code",
   "execution_count": null,
   "metadata": {
    "collapsed": true
   },
   "outputs": [],
   "source": [
    "#以該課程所有人中最多觀看影片數量最多的人為基準，來做影片完成率\n",
    "c_id=fdf['course_id'].value_counts().index\n",
    "courseperid={}\n",
    "ddm={}\n",
    "num=1\n",
    "for each in c_id:\n",
    "    courseperid[each]=fdf[fdf['course_id']==each]['videocount'].max()\n",
    "courseperid\n",
    "for a in range(1,len(fdf)+1):\n",
    "    ddm[num]=fdf['videocount'][a]/courseperid[fdf['course_id'][a]]\n",
    "    num+=1\n",
    "fdic['ddm']=ddm\n",
    "fdf=pd.DataFrame.from_dict(fdic)\n",
    "fdf.to_csv(\"finall.csv\")"
   ]
  },
  {
   "cell_type": "code",
   "execution_count": 10,
   "metadata": {
    "collapsed": false
   },
   "outputs": [],
   "source": [
    "# 建模\n",
    "\n",
    "#載入資料\n",
    "df = pd.read_csv(\"finall.csv\")\n",
    "train = pd.read_csv(\"/Users/andy/Desktop/2017學習數據分析黑客松/hack_training.csv\")"
   ]
  },
  {
   "cell_type": "code",
   "execution_count": 11,
   "metadata": {
    "collapsed": false
   },
   "outputs": [],
   "source": [
    "#資料清理\n",
    "df = df.drop('Unnamed: 0', 1)\n",
    "df3 = df.merge(train, on=('user_id','course_id'), left_index=True, right_index=True)\n",
    "df3['target1'] = df3['target'].map({'T':1,'F':0})\n",
    "df4 = df3.drop('target', 1)\n",
    "df5 = df4.drop('target1', 1)\n",
    "df6 = df5.drop('ddm',1)"
   ]
  },
  {
   "cell_type": "code",
   "execution_count": 12,
   "metadata": {
    "collapsed": true
   },
   "outputs": [],
   "source": [
    "q2 = pd.read_csv('finallfinall.csv')\n",
    "q3 = q2.drop('Unnamed: 0',1)"
   ]
  },
  {
   "cell_type": "code",
   "execution_count": 15,
   "metadata": {
    "collapsed": false
   },
   "outputs": [
    {
     "name": "stdout",
     "output_type": "stream",
     "text": [
      "Misclassified samples: 797\n",
      "Accuracy: 0.78\n"
     ]
    },
    {
     "name": "stderr",
     "output_type": "stream",
     "text": [
      "/Users/andy/anaconda/lib/python3.6/site-packages/ipykernel/__main__.py:4: SettingWithCopyWarning: \n",
      "A value is trying to be set on a copy of a slice from a DataFrame.\n",
      "Try using .loc[row_indexer,col_indexer] = value instead\n",
      "\n",
      "See the caveats in the documentation: http://pandas.pydata.org/pandas-docs/stable/indexing.html#indexing-view-versus-copy\n",
      "/Users/andy/anaconda/lib/python3.6/site-packages/ipykernel/__main__.py:5: SettingWithCopyWarning: \n",
      "A value is trying to be set on a copy of a slice from a DataFrame.\n",
      "Try using .loc[row_indexer,col_indexer] = value instead\n",
      "\n",
      "See the caveats in the documentation: http://pandas.pydata.org/pandas-docs/stable/indexing.html#indexing-view-versus-copy\n"
     ]
    }
   ],
   "source": [
    "#KNN\n",
    "X_train, X_test, y_train, y_test = train_test_split(df6, df4['target1'], test_size=0.3, random_state=1000)\n",
    "knn = KNeighborsClassifier()\n",
    "X_test['course_id'] = LabelEncoder().fit_transform(X_test['course_id'])\n",
    "X_train['course_id'] = LabelEncoder().fit_transform(X_train['course_id'])\n",
    "knn.fit(X_train, y_train)\n",
    "\n",
    "#預測準確率\n",
    "y_predict = knn.predict(X_test)\n",
    "print('Misclassified samples: %d' % (y_test != y_predict).sum())\n",
    "print('Accuracy: %.2f' % accuracy_score(y_test, y_predict))"
   ]
  },
  {
   "cell_type": "code",
   "execution_count": 16,
   "metadata": {
    "collapsed": false
   },
   "outputs": [],
   "source": [
    "#載入目標學生資料\n",
    "q3['course_id'] = LabelEncoder().fit_transform(q3['course_id'])\n",
    "target = knn.predict(q3)\n",
    "final =pd.DataFrame({\"user_id\":q2['user_id'],\"course_id\":q2['course_id'],'target':target})\n",
    "final['target'] = final['target'].map({1:'T',0:'F'})\n",
    "\n",
    "#輸出最終結果\n",
    "final.to_csv('q2.csv')"
   ]
  }
 ],
 "metadata": {
  "kernelspec": {
   "display_name": "Python 3",
   "language": "python",
   "name": "python3"
  },
  "language_info": {
   "codemirror_mode": {
    "name": "ipython",
    "version": 3
   },
   "file_extension": ".py",
   "mimetype": "text/x-python",
   "name": "python",
   "nbconvert_exporter": "python",
   "pygments_lexer": "ipython3",
   "version": "3.6.0"
  }
 },
 "nbformat": 4,
 "nbformat_minor": 2
}
