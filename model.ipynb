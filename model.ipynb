{
 "cells": [
  {
   "cell_type": "code",
   "execution_count": 263,
   "metadata": {
    "collapsed": false
   },
   "outputs": [],
   "source": [
    "import json\n",
    "import fnmatch\n",
    "import os\n",
    "from tqdm import tqdm\n",
    "import pandas as pd\n",
    "import datetime\n",
    "from dateutil.relativedelta import relativedelta\n",
    "import pandas as pd\n",
    "import matplotlib.pyplot as plt\n",
    "import numpy as np\n",
    "import seaborn as sns\n",
    "import random\n",
    "from sklearn.cross_validation import train_test_split\n",
    "from sklearn import metrics\n",
    "#Models\n",
    "from sklearn.linear_model import LogisticRegression\n",
    "from sklearn.svm import SVC, LinearSVC\n",
    "from sklearn.tree import DecisionTreeClassifier\n",
    "from sklearn.ensemble import RandomForestClassifier\n",
    "from sklearn.neighbors import KNeighborsClassifier\n",
    "from sklearn import preprocessing\n",
    "from sklearn.preprocessing import LabelEncoder\n",
    "from sklearn.linear_model import SGDClassifier\n",
    "from sklearn.cross_validation import KFold"
   ]
  },
  {
   "cell_type": "code",
   "execution_count": 3,
   "metadata": {
    "collapsed": false
   },
   "outputs": [],
   "source": [
    "df = pd.read_csv(\"finall.csv\")"
   ]
  },
  {
   "cell_type": "code",
   "execution_count": 10,
   "metadata": {
    "collapsed": true
   },
   "outputs": [],
   "source": [
    "train = pd.read_csv(\"/Users/andy/Desktop/2017學習數據分析黑客松/hack_training.csv\")"
   ]
  },
  {
   "cell_type": "code",
   "execution_count": 5,
   "metadata": {
    "collapsed": false
   },
   "outputs": [
    {
     "data": {
      "text/html": [
       "<div>\n",
       "<table border=\"1\" class=\"dataframe\">\n",
       "  <thead>\n",
       "    <tr style=\"text-align: right;\">\n",
       "      <th></th>\n",
       "      <th>Unnamed: 0</th>\n",
       "      <th>course_id</th>\n",
       "      <th>datecount</th>\n",
       "      <th>ddm</th>\n",
       "      <th>pause_video_count</th>\n",
       "      <th>session_videocount</th>\n",
       "      <th>sessioncount</th>\n",
       "      <th>speed_change_count</th>\n",
       "      <th>speed_change_value</th>\n",
       "      <th>totaltime</th>\n",
       "      <th>user_id</th>\n",
       "      <th>videocount</th>\n",
       "    </tr>\n",
       "  </thead>\n",
       "  <tbody>\n",
       "    <tr>\n",
       "      <th>0</th>\n",
       "      <td>1</td>\n",
       "      <td>ORG4638/C9081/D1465</td>\n",
       "      <td>1</td>\n",
       "      <td>0.125000</td>\n",
       "      <td>7</td>\n",
       "      <td>4</td>\n",
       "      <td>2</td>\n",
       "      <td>0</td>\n",
       "      <td>0.00</td>\n",
       "      <td>577</td>\n",
       "      <td>4093</td>\n",
       "      <td>4</td>\n",
       "    </tr>\n",
       "    <tr>\n",
       "      <th>1</th>\n",
       "      <td>2</td>\n",
       "      <td>ORG4638/C5126/D1465</td>\n",
       "      <td>96</td>\n",
       "      <td>0.784314</td>\n",
       "      <td>25427</td>\n",
       "      <td>120</td>\n",
       "      <td>5</td>\n",
       "      <td>12</td>\n",
       "      <td>-2.00</td>\n",
       "      <td>7379</td>\n",
       "      <td>1746</td>\n",
       "      <td>120</td>\n",
       "    </tr>\n",
       "    <tr>\n",
       "      <th>2</th>\n",
       "      <td>3</td>\n",
       "      <td>ORG0137/C0417/D2453</td>\n",
       "      <td>3</td>\n",
       "      <td>0.897436</td>\n",
       "      <td>569</td>\n",
       "      <td>0</td>\n",
       "      <td>0</td>\n",
       "      <td>1</td>\n",
       "      <td>1.00</td>\n",
       "      <td>0</td>\n",
       "      <td>21150</td>\n",
       "      <td>70</td>\n",
       "    </tr>\n",
       "    <tr>\n",
       "      <th>3</th>\n",
       "      <td>4</td>\n",
       "      <td>ORG8928/C0576/D6587</td>\n",
       "      <td>13</td>\n",
       "      <td>0.979592</td>\n",
       "      <td>15343</td>\n",
       "      <td>0</td>\n",
       "      <td>0</td>\n",
       "      <td>3</td>\n",
       "      <td>0.25</td>\n",
       "      <td>0</td>\n",
       "      <td>27061</td>\n",
       "      <td>48</td>\n",
       "    </tr>\n",
       "    <tr>\n",
       "      <th>4</th>\n",
       "      <td>5</td>\n",
       "      <td>ORG6039/C4792/D2453</td>\n",
       "      <td>6</td>\n",
       "      <td>0.976190</td>\n",
       "      <td>29</td>\n",
       "      <td>0</td>\n",
       "      <td>0</td>\n",
       "      <td>4</td>\n",
       "      <td>0.00</td>\n",
       "      <td>0</td>\n",
       "      <td>20189</td>\n",
       "      <td>82</td>\n",
       "    </tr>\n",
       "  </tbody>\n",
       "</table>\n",
       "</div>"
      ],
      "text/plain": [
       "   Unnamed: 0            course_id  datecount       ddm  pause_video_count  \\\n",
       "0           1  ORG4638/C9081/D1465          1  0.125000                  7   \n",
       "1           2  ORG4638/C5126/D1465         96  0.784314              25427   \n",
       "2           3  ORG0137/C0417/D2453          3  0.897436                569   \n",
       "3           4  ORG8928/C0576/D6587         13  0.979592              15343   \n",
       "4           5  ORG6039/C4792/D2453          6  0.976190                 29   \n",
       "\n",
       "   session_videocount  sessioncount  speed_change_count  speed_change_value  \\\n",
       "0                   4             2                   0                0.00   \n",
       "1                 120             5                  12               -2.00   \n",
       "2                   0             0                   1                1.00   \n",
       "3                   0             0                   3                0.25   \n",
       "4                   0             0                   4                0.00   \n",
       "\n",
       "   totaltime  user_id  videocount  \n",
       "0        577     4093           4  \n",
       "1       7379     1746         120  \n",
       "2          0    21150          70  \n",
       "3          0    27061          48  \n",
       "4          0    20189          82  "
      ]
     },
     "execution_count": 5,
     "metadata": {},
     "output_type": "execute_result"
    }
   ],
   "source": [
    "df.head()"
   ]
  },
  {
   "cell_type": "code",
   "execution_count": 8,
   "metadata": {
    "collapsed": false
   },
   "outputs": [],
   "source": [
    "df = df.drop('Unnamed: 0', 1)"
   ]
  },
  {
   "cell_type": "code",
   "execution_count": 9,
   "metadata": {
    "collapsed": false
   },
   "outputs": [
    {
     "data": {
      "text/html": [
       "<div>\n",
       "<table border=\"1\" class=\"dataframe\">\n",
       "  <thead>\n",
       "    <tr style=\"text-align: right;\">\n",
       "      <th></th>\n",
       "      <th>course_id</th>\n",
       "      <th>datecount</th>\n",
       "      <th>ddm</th>\n",
       "      <th>pause_video_count</th>\n",
       "      <th>session_videocount</th>\n",
       "      <th>sessioncount</th>\n",
       "      <th>speed_change_count</th>\n",
       "      <th>speed_change_value</th>\n",
       "      <th>totaltime</th>\n",
       "      <th>user_id</th>\n",
       "      <th>videocount</th>\n",
       "    </tr>\n",
       "  </thead>\n",
       "  <tbody>\n",
       "    <tr>\n",
       "      <th>0</th>\n",
       "      <td>ORG4638/C9081/D1465</td>\n",
       "      <td>1</td>\n",
       "      <td>0.125000</td>\n",
       "      <td>7</td>\n",
       "      <td>4</td>\n",
       "      <td>2</td>\n",
       "      <td>0</td>\n",
       "      <td>0.00</td>\n",
       "      <td>577</td>\n",
       "      <td>4093</td>\n",
       "      <td>4</td>\n",
       "    </tr>\n",
       "    <tr>\n",
       "      <th>1</th>\n",
       "      <td>ORG4638/C5126/D1465</td>\n",
       "      <td>96</td>\n",
       "      <td>0.784314</td>\n",
       "      <td>25427</td>\n",
       "      <td>120</td>\n",
       "      <td>5</td>\n",
       "      <td>12</td>\n",
       "      <td>-2.00</td>\n",
       "      <td>7379</td>\n",
       "      <td>1746</td>\n",
       "      <td>120</td>\n",
       "    </tr>\n",
       "    <tr>\n",
       "      <th>2</th>\n",
       "      <td>ORG0137/C0417/D2453</td>\n",
       "      <td>3</td>\n",
       "      <td>0.897436</td>\n",
       "      <td>569</td>\n",
       "      <td>0</td>\n",
       "      <td>0</td>\n",
       "      <td>1</td>\n",
       "      <td>1.00</td>\n",
       "      <td>0</td>\n",
       "      <td>21150</td>\n",
       "      <td>70</td>\n",
       "    </tr>\n",
       "    <tr>\n",
       "      <th>3</th>\n",
       "      <td>ORG8928/C0576/D6587</td>\n",
       "      <td>13</td>\n",
       "      <td>0.979592</td>\n",
       "      <td>15343</td>\n",
       "      <td>0</td>\n",
       "      <td>0</td>\n",
       "      <td>3</td>\n",
       "      <td>0.25</td>\n",
       "      <td>0</td>\n",
       "      <td>27061</td>\n",
       "      <td>48</td>\n",
       "    </tr>\n",
       "    <tr>\n",
       "      <th>4</th>\n",
       "      <td>ORG6039/C4792/D2453</td>\n",
       "      <td>6</td>\n",
       "      <td>0.976190</td>\n",
       "      <td>29</td>\n",
       "      <td>0</td>\n",
       "      <td>0</td>\n",
       "      <td>4</td>\n",
       "      <td>0.00</td>\n",
       "      <td>0</td>\n",
       "      <td>20189</td>\n",
       "      <td>82</td>\n",
       "    </tr>\n",
       "  </tbody>\n",
       "</table>\n",
       "</div>"
      ],
      "text/plain": [
       "             course_id  datecount       ddm  pause_video_count  \\\n",
       "0  ORG4638/C9081/D1465          1  0.125000                  7   \n",
       "1  ORG4638/C5126/D1465         96  0.784314              25427   \n",
       "2  ORG0137/C0417/D2453          3  0.897436                569   \n",
       "3  ORG8928/C0576/D6587         13  0.979592              15343   \n",
       "4  ORG6039/C4792/D2453          6  0.976190                 29   \n",
       "\n",
       "   session_videocount  sessioncount  speed_change_count  speed_change_value  \\\n",
       "0                   4             2                   0                0.00   \n",
       "1                 120             5                  12               -2.00   \n",
       "2                   0             0                   1                1.00   \n",
       "3                   0             0                   3                0.25   \n",
       "4                   0             0                   4                0.00   \n",
       "\n",
       "   totaltime  user_id  videocount  \n",
       "0        577     4093           4  \n",
       "1       7379     1746         120  \n",
       "2          0    21150          70  \n",
       "3          0    27061          48  \n",
       "4          0    20189          82  "
      ]
     },
     "execution_count": 9,
     "metadata": {},
     "output_type": "execute_result"
    }
   ],
   "source": [
    "df.head()"
   ]
  },
  {
   "cell_type": "code",
   "execution_count": 11,
   "metadata": {
    "collapsed": false
   },
   "outputs": [
    {
     "data": {
      "text/html": [
       "<div>\n",
       "<table border=\"1\" class=\"dataframe\">\n",
       "  <thead>\n",
       "    <tr style=\"text-align: right;\">\n",
       "      <th></th>\n",
       "      <th>course_id</th>\n",
       "      <th>user_id</th>\n",
       "      <th>target</th>\n",
       "    </tr>\n",
       "  </thead>\n",
       "  <tbody>\n",
       "    <tr>\n",
       "      <th>0</th>\n",
       "      <td>ORG3685/C3456/D4353</td>\n",
       "      <td>51</td>\n",
       "      <td>F</td>\n",
       "    </tr>\n",
       "    <tr>\n",
       "      <th>1</th>\n",
       "      <td>ORG3685/C3456/D4353</td>\n",
       "      <td>2115</td>\n",
       "      <td>T</td>\n",
       "    </tr>\n",
       "    <tr>\n",
       "      <th>2</th>\n",
       "      <td>ORG3685/C3456/D4353</td>\n",
       "      <td>8362</td>\n",
       "      <td>F</td>\n",
       "    </tr>\n",
       "    <tr>\n",
       "      <th>3</th>\n",
       "      <td>ORG3685/C3456/D4353</td>\n",
       "      <td>17100</td>\n",
       "      <td>F</td>\n",
       "    </tr>\n",
       "    <tr>\n",
       "      <th>4</th>\n",
       "      <td>ORG3685/C3456/D4353</td>\n",
       "      <td>19452</td>\n",
       "      <td>T</td>\n",
       "    </tr>\n",
       "  </tbody>\n",
       "</table>\n",
       "</div>"
      ],
      "text/plain": [
       "             course_id  user_id target\n",
       "0  ORG3685/C3456/D4353       51      F\n",
       "1  ORG3685/C3456/D4353     2115      T\n",
       "2  ORG3685/C3456/D4353     8362      F\n",
       "3  ORG3685/C3456/D4353    17100      F\n",
       "4  ORG3685/C3456/D4353    19452      T"
      ]
     },
     "execution_count": 11,
     "metadata": {},
     "output_type": "execute_result"
    }
   ],
   "source": [
    "train.head()"
   ]
  },
  {
   "cell_type": "code",
   "execution_count": 15,
   "metadata": {
    "collapsed": false
   },
   "outputs": [],
   "source": [
    "df3 = df.merge(train, on=('user_id','course_id'), left_index=True, right_index=True)"
   ]
  },
  {
   "cell_type": "code",
   "execution_count": 17,
   "metadata": {
    "collapsed": false
   },
   "outputs": [
    {
     "data": {
      "text/html": [
       "<div>\n",
       "<table border=\"1\" class=\"dataframe\">\n",
       "  <thead>\n",
       "    <tr style=\"text-align: right;\">\n",
       "      <th></th>\n",
       "      <th>course_id</th>\n",
       "      <th>datecount</th>\n",
       "      <th>ddm</th>\n",
       "      <th>pause_video_count</th>\n",
       "      <th>session_videocount</th>\n",
       "      <th>sessioncount</th>\n",
       "      <th>speed_change_count</th>\n",
       "      <th>speed_change_value</th>\n",
       "      <th>totaltime</th>\n",
       "      <th>user_id</th>\n",
       "      <th>videocount</th>\n",
       "      <th>target</th>\n",
       "    </tr>\n",
       "  </thead>\n",
       "  <tbody>\n",
       "    <tr>\n",
       "      <th>0</th>\n",
       "      <td>ORG4638/C9081/D1465</td>\n",
       "      <td>1</td>\n",
       "      <td>0.125000</td>\n",
       "      <td>7</td>\n",
       "      <td>4</td>\n",
       "      <td>2</td>\n",
       "      <td>0</td>\n",
       "      <td>0.00</td>\n",
       "      <td>577</td>\n",
       "      <td>4093</td>\n",
       "      <td>4</td>\n",
       "      <td>F</td>\n",
       "    </tr>\n",
       "    <tr>\n",
       "      <th>1</th>\n",
       "      <td>ORG4638/C5126/D1465</td>\n",
       "      <td>96</td>\n",
       "      <td>0.784314</td>\n",
       "      <td>25427</td>\n",
       "      <td>120</td>\n",
       "      <td>5</td>\n",
       "      <td>12</td>\n",
       "      <td>-2.00</td>\n",
       "      <td>7379</td>\n",
       "      <td>1746</td>\n",
       "      <td>120</td>\n",
       "      <td>T</td>\n",
       "    </tr>\n",
       "    <tr>\n",
       "      <th>2</th>\n",
       "      <td>ORG0137/C0417/D2453</td>\n",
       "      <td>3</td>\n",
       "      <td>0.897436</td>\n",
       "      <td>569</td>\n",
       "      <td>0</td>\n",
       "      <td>0</td>\n",
       "      <td>1</td>\n",
       "      <td>1.00</td>\n",
       "      <td>0</td>\n",
       "      <td>21150</td>\n",
       "      <td>70</td>\n",
       "      <td>F</td>\n",
       "    </tr>\n",
       "    <tr>\n",
       "      <th>3</th>\n",
       "      <td>ORG8928/C0576/D6587</td>\n",
       "      <td>13</td>\n",
       "      <td>0.979592</td>\n",
       "      <td>15343</td>\n",
       "      <td>0</td>\n",
       "      <td>0</td>\n",
       "      <td>3</td>\n",
       "      <td>0.25</td>\n",
       "      <td>0</td>\n",
       "      <td>27061</td>\n",
       "      <td>48</td>\n",
       "      <td>F</td>\n",
       "    </tr>\n",
       "    <tr>\n",
       "      <th>4</th>\n",
       "      <td>ORG6039/C4792/D2453</td>\n",
       "      <td>6</td>\n",
       "      <td>0.976190</td>\n",
       "      <td>29</td>\n",
       "      <td>0</td>\n",
       "      <td>0</td>\n",
       "      <td>4</td>\n",
       "      <td>0.00</td>\n",
       "      <td>0</td>\n",
       "      <td>20189</td>\n",
       "      <td>82</td>\n",
       "      <td>T</td>\n",
       "    </tr>\n",
       "  </tbody>\n",
       "</table>\n",
       "</div>"
      ],
      "text/plain": [
       "             course_id  datecount       ddm  pause_video_count  \\\n",
       "0  ORG4638/C9081/D1465          1  0.125000                  7   \n",
       "1  ORG4638/C5126/D1465         96  0.784314              25427   \n",
       "2  ORG0137/C0417/D2453          3  0.897436                569   \n",
       "3  ORG8928/C0576/D6587         13  0.979592              15343   \n",
       "4  ORG6039/C4792/D2453          6  0.976190                 29   \n",
       "\n",
       "   session_videocount  sessioncount  speed_change_count  speed_change_value  \\\n",
       "0                   4             2                   0                0.00   \n",
       "1                 120             5                  12               -2.00   \n",
       "2                   0             0                   1                1.00   \n",
       "3                   0             0                   3                0.25   \n",
       "4                   0             0                   4                0.00   \n",
       "\n",
       "   totaltime  user_id  videocount target  \n",
       "0        577     4093           4      F  \n",
       "1       7379     1746         120      T  \n",
       "2          0    21150          70      F  \n",
       "3          0    27061          48      F  \n",
       "4          0    20189          82      T  "
      ]
     },
     "execution_count": 17,
     "metadata": {},
     "output_type": "execute_result"
    }
   ],
   "source": [
    "df3.head()"
   ]
  },
  {
   "cell_type": "code",
   "execution_count": 25,
   "metadata": {
    "collapsed": false
   },
   "outputs": [],
   "source": [
    "df3['target1'] = df3['target'].map({'T':1,'F':0})"
   ]
  },
  {
   "cell_type": "code",
   "execution_count": 26,
   "metadata": {
    "collapsed": true
   },
   "outputs": [],
   "source": [
    "df4 = df3.drop('target', 1)"
   ]
  },
  {
   "cell_type": "code",
   "execution_count": 27,
   "metadata": {
    "collapsed": false
   },
   "outputs": [
    {
     "data": {
      "text/html": [
       "<div>\n",
       "<table border=\"1\" class=\"dataframe\">\n",
       "  <thead>\n",
       "    <tr style=\"text-align: right;\">\n",
       "      <th></th>\n",
       "      <th>course_id</th>\n",
       "      <th>datecount</th>\n",
       "      <th>ddm</th>\n",
       "      <th>pause_video_count</th>\n",
       "      <th>session_videocount</th>\n",
       "      <th>sessioncount</th>\n",
       "      <th>speed_change_count</th>\n",
       "      <th>speed_change_value</th>\n",
       "      <th>totaltime</th>\n",
       "      <th>user_id</th>\n",
       "      <th>videocount</th>\n",
       "      <th>target1</th>\n",
       "    </tr>\n",
       "  </thead>\n",
       "  <tbody>\n",
       "    <tr>\n",
       "      <th>0</th>\n",
       "      <td>ORG4638/C9081/D1465</td>\n",
       "      <td>1</td>\n",
       "      <td>0.125000</td>\n",
       "      <td>7</td>\n",
       "      <td>4</td>\n",
       "      <td>2</td>\n",
       "      <td>0</td>\n",
       "      <td>0.00</td>\n",
       "      <td>577</td>\n",
       "      <td>4093</td>\n",
       "      <td>4</td>\n",
       "      <td>0</td>\n",
       "    </tr>\n",
       "    <tr>\n",
       "      <th>1</th>\n",
       "      <td>ORG4638/C5126/D1465</td>\n",
       "      <td>96</td>\n",
       "      <td>0.784314</td>\n",
       "      <td>25427</td>\n",
       "      <td>120</td>\n",
       "      <td>5</td>\n",
       "      <td>12</td>\n",
       "      <td>-2.00</td>\n",
       "      <td>7379</td>\n",
       "      <td>1746</td>\n",
       "      <td>120</td>\n",
       "      <td>1</td>\n",
       "    </tr>\n",
       "    <tr>\n",
       "      <th>2</th>\n",
       "      <td>ORG0137/C0417/D2453</td>\n",
       "      <td>3</td>\n",
       "      <td>0.897436</td>\n",
       "      <td>569</td>\n",
       "      <td>0</td>\n",
       "      <td>0</td>\n",
       "      <td>1</td>\n",
       "      <td>1.00</td>\n",
       "      <td>0</td>\n",
       "      <td>21150</td>\n",
       "      <td>70</td>\n",
       "      <td>0</td>\n",
       "    </tr>\n",
       "    <tr>\n",
       "      <th>3</th>\n",
       "      <td>ORG8928/C0576/D6587</td>\n",
       "      <td>13</td>\n",
       "      <td>0.979592</td>\n",
       "      <td>15343</td>\n",
       "      <td>0</td>\n",
       "      <td>0</td>\n",
       "      <td>3</td>\n",
       "      <td>0.25</td>\n",
       "      <td>0</td>\n",
       "      <td>27061</td>\n",
       "      <td>48</td>\n",
       "      <td>0</td>\n",
       "    </tr>\n",
       "    <tr>\n",
       "      <th>4</th>\n",
       "      <td>ORG6039/C4792/D2453</td>\n",
       "      <td>6</td>\n",
       "      <td>0.976190</td>\n",
       "      <td>29</td>\n",
       "      <td>0</td>\n",
       "      <td>0</td>\n",
       "      <td>4</td>\n",
       "      <td>0.00</td>\n",
       "      <td>0</td>\n",
       "      <td>20189</td>\n",
       "      <td>82</td>\n",
       "      <td>1</td>\n",
       "    </tr>\n",
       "  </tbody>\n",
       "</table>\n",
       "</div>"
      ],
      "text/plain": [
       "             course_id  datecount       ddm  pause_video_count  \\\n",
       "0  ORG4638/C9081/D1465          1  0.125000                  7   \n",
       "1  ORG4638/C5126/D1465         96  0.784314              25427   \n",
       "2  ORG0137/C0417/D2453          3  0.897436                569   \n",
       "3  ORG8928/C0576/D6587         13  0.979592              15343   \n",
       "4  ORG6039/C4792/D2453          6  0.976190                 29   \n",
       "\n",
       "   session_videocount  sessioncount  speed_change_count  speed_change_value  \\\n",
       "0                   4             2                   0                0.00   \n",
       "1                 120             5                  12               -2.00   \n",
       "2                   0             0                   1                1.00   \n",
       "3                   0             0                   3                0.25   \n",
       "4                   0             0                   4                0.00   \n",
       "\n",
       "   totaltime  user_id  videocount  target1  \n",
       "0        577     4093           4        0  \n",
       "1       7379     1746         120        1  \n",
       "2          0    21150          70        0  \n",
       "3          0    27061          48        0  \n",
       "4          0    20189          82        1  "
      ]
     },
     "execution_count": 27,
     "metadata": {},
     "output_type": "execute_result"
    }
   ],
   "source": [
    "df4.head()"
   ]
  },
  {
   "cell_type": "code",
   "execution_count": null,
   "metadata": {
    "collapsed": true
   },
   "outputs": [],
   "source": [
    "df5 = df4.drop('target1', 1)"
   ]
  },
  {
   "cell_type": "code",
   "execution_count": 29,
   "metadata": {
    "collapsed": true
   },
   "outputs": [],
   "source": [
    "train, test = train_test_split(df4, test_size=0.3)"
   ]
  },
  {
   "cell_type": "code",
   "execution_count": null,
   "metadata": {
    "collapsed": true
   },
   "outputs": [],
   "source": [
    "features = ['course_id','datecount','ddm','pause_video_count','session_videocount','sessioncount','speed_change_count','speed_change_value','totaltime','user_id','videocount']"
   ]
  },
  {
   "cell_type": "code",
   "execution_count": 156,
   "metadata": {
    "collapsed": false,
    "scrolled": false
   },
   "outputs": [
    {
     "name": "stderr",
     "output_type": "stream",
     "text": [
      "/Users/andy/anaconda/lib/python3.6/site-packages/ipykernel/__main__.py:5: SettingWithCopyWarning: \n",
      "A value is trying to be set on a copy of a slice from a DataFrame.\n",
      "Try using .loc[row_indexer,col_indexer] = value instead\n",
      "\n",
      "See the caveats in the documentation: http://pandas.pydata.org/pandas-docs/stable/indexing.html#indexing-view-versus-copy\n"
     ]
    },
    {
     "data": {
      "text/plain": [
       "RandomForestClassifier(bootstrap=True, class_weight=None, criterion='gini',\n",
       "            max_depth=None, max_features='auto', max_leaf_nodes=None,\n",
       "            min_impurity_split=1e-07, min_samples_leaf=1,\n",
       "            min_samples_split=2, min_weight_fraction_leaf=0.0,\n",
       "            n_estimators=10, n_jobs=1, oob_score=False, random_state=None,\n",
       "            verbose=0, warm_start=False)"
      ]
     },
     "execution_count": 156,
     "metadata": {},
     "output_type": "execute_result"
    }
   ],
   "source": [
    "#train\n",
    "features = ['course_id','datecount','pause_video_count','speed_change_count','speed_change_value','user_id','videocount']\n",
    "training_data = train[features]\n",
    "training_label = train['target1']\n",
    "training_data['course_id'] = LabelEncoder().fit_transform(training_data['course_id'])\n",
    "# training_data['user_id'] = LabelEncoder().fit_transform(training_data['user_id'])\n",
    "model = RandomForestClassifier()\n",
    "model.fit(training_data,training_label)"
   ]
  },
  {
   "cell_type": "code",
   "execution_count": 173,
   "metadata": {
    "collapsed": false
   },
   "outputs": [
    {
     "name": "stderr",
     "output_type": "stream",
     "text": [
      "/Users/andy/anaconda/lib/python3.6/site-packages/ipykernel/__main__.py:3: SettingWithCopyWarning: \n",
      "A value is trying to be set on a copy of a slice from a DataFrame.\n",
      "Try using .loc[row_indexer,col_indexer] = value instead\n",
      "\n",
      "See the caveats in the documentation: http://pandas.pydata.org/pandas-docs/stable/indexing.html#indexing-view-versus-copy\n",
      "  app.launch_new_instance()\n"
     ]
    }
   ],
   "source": [
    "#test\n",
    "prediction_data = test[features]\n",
    "prediction_data['course_id'] = LabelEncoder().fit_transform(prediction_data['course_id'])\n",
    "# prediction_data['user_id'] = LabelEncoder().fit_transform(prediction_data['user_id'])\n",
    "rand_labels = (np.random.rand(len(test['user_id'])) > 0.4).astype(np.int32)\n",
    "result_labels = model.predict(prediction_data)\n",
    "results = pd.DataFrame({\n",
    "    \"user_id\" : test['user_id'],\n",
    "    \"target1\" : rand_labels\n",
    "})"
   ]
  },
  {
   "cell_type": "code",
   "execution_count": 317,
   "metadata": {
    "collapsed": false
   },
   "outputs": [
    {
     "name": "stdout",
     "output_type": "stream",
     "text": [
      "0.594784785724\n"
     ]
    }
   ],
   "source": [
    "from sklearn.cross_validation import cross_val_score\n",
    "cv_scores = np.mean(cross_val_score(model,training_data,training_label,scoring=\"roc_auc\",cv=5))\n",
    "print(cv_scores)"
   ]
  },
  {
   "cell_type": "code",
   "execution_count": 449,
   "metadata": {
    "collapsed": false
   },
   "outputs": [],
   "source": [
    "q2 = pd.read_csv('finallfinall.csv')"
   ]
  },
  {
   "cell_type": "code",
   "execution_count": 450,
   "metadata": {
    "collapsed": false
   },
   "outputs": [],
   "source": [
    "q3 = q2.drop('Unnamed: 0',1)"
   ]
  },
  {
   "cell_type": "code",
   "execution_count": 451,
   "metadata": {
    "collapsed": true
   },
   "outputs": [],
   "source": [
    "#KNN\n",
    "X_train, X_test, y_train, y_test = train_test_split(df6, df4['target1'], test_size=0.3, random_state=1000)"
   ]
  },
  {
   "cell_type": "code",
   "execution_count": 452,
   "metadata": {
    "collapsed": false
   },
   "outputs": [
    {
     "name": "stderr",
     "output_type": "stream",
     "text": [
      "/Users/andy/anaconda/lib/python3.6/site-packages/ipykernel/__main__.py:2: SettingWithCopyWarning: \n",
      "A value is trying to be set on a copy of a slice from a DataFrame.\n",
      "Try using .loc[row_indexer,col_indexer] = value instead\n",
      "\n",
      "See the caveats in the documentation: http://pandas.pydata.org/pandas-docs/stable/indexing.html#indexing-view-versus-copy\n",
      "  from ipykernel import kernelapp as app\n",
      "/Users/andy/anaconda/lib/python3.6/site-packages/ipykernel/__main__.py:3: SettingWithCopyWarning: \n",
      "A value is trying to be set on a copy of a slice from a DataFrame.\n",
      "Try using .loc[row_indexer,col_indexer] = value instead\n",
      "\n",
      "See the caveats in the documentation: http://pandas.pydata.org/pandas-docs/stable/indexing.html#indexing-view-versus-copy\n",
      "  app.launch_new_instance()\n"
     ]
    },
    {
     "data": {
      "text/plain": [
       "KNeighborsClassifier(algorithm='auto', leaf_size=30, metric='minkowski',\n",
       "           metric_params=None, n_jobs=1, n_neighbors=5, p=2,\n",
       "           weights='uniform')"
      ]
     },
     "execution_count": 452,
     "metadata": {},
     "output_type": "execute_result"
    }
   ],
   "source": [
    "knn = KNeighborsClassifier()\n",
    "X_test['course_id'] = LabelEncoder().fit_transform(X_test['course_id'])\n",
    "X_train['course_id'] = LabelEncoder().fit_transform(X_train['course_id'])\n",
    "knn.fit(X_train, y_train)"
   ]
  },
  {
   "cell_type": "code",
   "execution_count": 453,
   "metadata": {
    "collapsed": false
   },
   "outputs": [
    {
     "name": "stdout",
     "output_type": "stream",
     "text": [
      "Misclassified samples: 797\n"
     ]
    }
   ],
   "source": [
    "y_predict = knn.predict(X_test)\n",
    "print('Misclassified samples: %d' % (y_test != y_predict).sum())"
   ]
  },
  {
   "cell_type": "code",
   "execution_count": 454,
   "metadata": {
    "collapsed": false
   },
   "outputs": [
    {
     "name": "stdout",
     "output_type": "stream",
     "text": [
      "Accuracy: 0.78\n"
     ]
    }
   ],
   "source": [
    "from sklearn.metrics import accuracy_score\n",
    "print('Accuracy: %.2f' % accuracy_score(y_test, y_predict))"
   ]
  },
  {
   "cell_type": "code",
   "execution_count": 455,
   "metadata": {
    "collapsed": false
   },
   "outputs": [],
   "source": [
    "q3['course_id'] = LabelEncoder().fit_transform(q3['course_id'])\n",
    "target = knn.predict(q3)"
   ]
  },
  {
   "cell_type": "code",
   "execution_count": 456,
   "metadata": {
    "collapsed": false
   },
   "outputs": [],
   "source": [
    "final =pd.DataFrame({\"user_id\":q2['user_id'],\"course_id\":q2['course_id'],'target':target})"
   ]
  },
  {
   "cell_type": "code",
   "execution_count": 457,
   "metadata": {
    "collapsed": false
   },
   "outputs": [],
   "source": [
    "final['target'] = final['target'].map({1:'T',0:'F'})"
   ]
  },
  {
   "cell_type": "code",
   "execution_count": 458,
   "metadata": {
    "collapsed": false
   },
   "outputs": [
    {
     "data": {
      "text/plain": [
       "F    3233\n",
       "T     327\n",
       "Name: target, dtype: int64"
      ]
     },
     "execution_count": 458,
     "metadata": {},
     "output_type": "execute_result"
    }
   ],
   "source": [
    "final['target'].value_counts()"
   ]
  },
  {
   "cell_type": "code",
   "execution_count": 459,
   "metadata": {
    "collapsed": true
   },
   "outputs": [],
   "source": [
    "final.to_csv('q2.csv')"
   ]
  },
  {
   "cell_type": "code",
   "execution_count": 440,
   "metadata": {
    "collapsed": false
   },
   "outputs": [],
   "source": [
    "q2 = pd.read_csv('/Users/andy/Desktop/2017學習數據分析黑客松/hack_question02.csv')"
   ]
  },
  {
   "cell_type": "code",
   "execution_count": 444,
   "metadata": {
    "collapsed": false
   },
   "outputs": [],
   "source": [
    "course=[]\n",
    "for i in q2['course_id']:\n",
    "    if i not in course:\n",
    "        course.append(i)"
   ]
  },
  {
   "cell_type": "code",
   "execution_count": 464,
   "metadata": {
    "collapsed": false,
    "scrolled": false
   },
   "outputs": [
    {
     "data": {
      "text/html": [
       "<div>\n",
       "<table border=\"1\" class=\"dataframe\">\n",
       "  <thead>\n",
       "    <tr style=\"text-align: right;\">\n",
       "      <th></th>\n",
       "      <th>course_id</th>\n",
       "      <th>target</th>\n",
       "      <th>user_id</th>\n",
       "    </tr>\n",
       "  </thead>\n",
       "  <tbody>\n",
       "    <tr>\n",
       "      <th>180</th>\n",
       "      <td>ORG1525/C8152/D2453</td>\n",
       "      <td>F</td>\n",
       "      <td>21125</td>\n",
       "    </tr>\n",
       "  </tbody>\n",
       "</table>\n",
       "</div>"
      ],
      "text/plain": [
       "               course_id target  user_id\n",
       "180  ORG1525/C8152/D2453      F    21125"
      ]
     },
     "execution_count": 464,
     "metadata": {},
     "output_type": "execute_result"
    }
   ],
   "source": [
    "final[final['user_id']==21125]"
   ]
  },
  {
   "cell_type": "code",
   "execution_count": null,
   "metadata": {
    "collapsed": true
   },
   "outputs": [],
   "source": []
  }
 ],
 "metadata": {
  "kernelspec": {
   "display_name": "Python 3",
   "language": "python",
   "name": "python3"
  },
  "language_info": {
   "codemirror_mode": {
    "name": "ipython",
    "version": 3
   },
   "file_extension": ".py",
   "mimetype": "text/x-python",
   "name": "python",
   "nbconvert_exporter": "python",
   "pygments_lexer": "ipython3",
   "version": "3.6.3"
  }
 },
 "nbformat": 4,
 "nbformat_minor": 2
}
