{
 "cells": [
  {
   "cell_type": "code",
   "execution_count": 1,
   "metadata": {
    "collapsed": true
   },
   "outputs": [],
   "source": [
    "import json\n",
    "import fnmatch\n",
    "import os\n",
    "from tqdm import tqdm\n",
    "from collections import Counter\n",
    "import pandas as pd\n",
    "import datetime\n",
    "from dateutil.relativedelta import relativedelta"
   ]
  },
  {
   "cell_type": "code",
   "execution_count": 2,
   "metadata": {
    "collapsed": false
   },
   "outputs": [
    {
     "name": "stderr",
     "output_type": "stream",
     "text": [
      "100%|██████████| 772/772 [00:41<00:00, 18.41it/s]\n",
      "100%|██████████| 2796/2796 [02:26<00:00, 19.06it/s]\n",
      "100%|██████████| 4680/4680 [04:46<00:00, 16.32it/s]\n",
      "100%|██████████| 2979/2979 [03:06<00:00, 16.00it/s]\n"
     ]
    }
   ],
   "source": [
    "data = []\n",
    "error_data = []\n",
    "for i in range(4,8):\n",
    "    for name in tqdm(os.listdir(\"/Volumes/transcend/大檔案/2017學習數據分析黑客松/hack_log_201\"+str(i))):\n",
    "        with open('/Volumes/transcend/大檔案/2017學習數據分析黑客松/hack_log_201'+str(i)+\"/\"+name, 'r') as f:\n",
    "            for line in f:\n",
    "                try:\n",
    "                     if json.loads(line)['context']['course_id'] == \"ORG8070/C2857/D2453\":\n",
    "                        data.append(json.loads(line))\n",
    "                except:\n",
    "                    error_data.append((line,f))"
   ]
  },
  {
   "cell_type": "code",
   "execution_count": 3,
   "metadata": {
    "collapsed": false
   },
   "outputs": [],
   "source": [
    "uid=['91', '103', '2115', '7365', '9838', '10807', '12532', '12960', '13029', '17650', '17652', '17796', '18167']"
   ]
  },
  {
   "cell_type": "code",
   "execution_count": 4,
   "metadata": {
    "collapsed": true
   },
   "outputs": [],
   "source": [
    "#Q1\n",
    "usertime = []\n",
    "for i in range(len(data)):\n",
    "    try:\n",
    "        usertime.append((data[i]['context']['user_id'],data[i]['context']['course_id'],data[i]['time'].split(\"T\")[0]))\n",
    "    except:\n",
    "        continue"
   ]
  },
  {
   "cell_type": "code",
   "execution_count": 5,
   "metadata": {
    "collapsed": false
   },
   "outputs": [
    {
     "data": {
      "text/plain": [
       "[(5, 'ORG8070/C2857/D2453', '2016-03-31'),\n",
       " (5, 'ORG8070/C2857/D2453', '2016-03-31'),\n",
       " (None, 'ORG8070/C2857/D2453', '2016-03-31'),\n",
       " (5, 'ORG8070/C2857/D2453', '2016-04-01'),\n",
       " (5, 'ORG8070/C2857/D2453', '2016-04-01'),\n",
       " (5, 'ORG8070/C2857/D2453', '2016-04-01'),\n",
       " (5, 'ORG8070/C2857/D2453', '2016-04-01'),\n",
       " (5, 'ORG8070/C2857/D2453', '2016-04-01'),\n",
       " (5, 'ORG8070/C2857/D2453', '2016-04-01'),\n",
       " (5, 'ORG8070/C2857/D2453', '2016-04-01')]"
      ]
     },
     "execution_count": 5,
     "metadata": {},
     "output_type": "execute_result"
    }
   ],
   "source": [
    "usertime[0:10]"
   ]
  },
  {
   "cell_type": "code",
   "execution_count": 6,
   "metadata": {
    "collapsed": true
   },
   "outputs": [],
   "source": [
    "a=[]\n",
    "for i in usertime:\n",
    "    if i not in a:\n",
    "        a.append(i)\n",
    "    else:\n",
    "        pass"
   ]
  },
  {
   "cell_type": "code",
   "execution_count": 7,
   "metadata": {
    "collapsed": false
   },
   "outputs": [
    {
     "data": {
      "text/html": [
       "<div>\n",
       "<style scoped>\n",
       "    .dataframe tbody tr th:only-of-type {\n",
       "        vertical-align: middle;\n",
       "    }\n",
       "\n",
       "    .dataframe tbody tr th {\n",
       "        vertical-align: top;\n",
       "    }\n",
       "\n",
       "    .dataframe thead th {\n",
       "        text-align: right;\n",
       "    }\n",
       "</style>\n",
       "<table border=\"1\" class=\"dataframe\">\n",
       "  <thead>\n",
       "    <tr style=\"text-align: right;\">\n",
       "      <th></th>\n",
       "      <th>user_id</th>\n",
       "      <th>course_id</th>\n",
       "      <th>date</th>\n",
       "    </tr>\n",
       "  </thead>\n",
       "  <tbody>\n",
       "    <tr>\n",
       "      <th>0</th>\n",
       "      <td>5.0</td>\n",
       "      <td>ORG8070/C2857/D2453</td>\n",
       "      <td>2016-03-31</td>\n",
       "    </tr>\n",
       "    <tr>\n",
       "      <th>1</th>\n",
       "      <td>NaN</td>\n",
       "      <td>ORG8070/C2857/D2453</td>\n",
       "      <td>2016-03-31</td>\n",
       "    </tr>\n",
       "    <tr>\n",
       "      <th>2</th>\n",
       "      <td>5.0</td>\n",
       "      <td>ORG8070/C2857/D2453</td>\n",
       "      <td>2016-04-01</td>\n",
       "    </tr>\n",
       "    <tr>\n",
       "      <th>3</th>\n",
       "      <td>NaN</td>\n",
       "      <td>ORG8070/C2857/D2453</td>\n",
       "      <td>2016-04-03</td>\n",
       "    </tr>\n",
       "    <tr>\n",
       "      <th>4</th>\n",
       "      <td>135.0</td>\n",
       "      <td>ORG8070/C2857/D2453</td>\n",
       "      <td>2016-04-06</td>\n",
       "    </tr>\n",
       "  </tbody>\n",
       "</table>\n",
       "</div>"
      ],
      "text/plain": [
       "   user_id            course_id        date\n",
       "0      5.0  ORG8070/C2857/D2453  2016-03-31\n",
       "1      NaN  ORG8070/C2857/D2453  2016-03-31\n",
       "2      5.0  ORG8070/C2857/D2453  2016-04-01\n",
       "3      NaN  ORG8070/C2857/D2453  2016-04-03\n",
       "4    135.0  ORG8070/C2857/D2453  2016-04-06"
      ]
     },
     "execution_count": 7,
     "metadata": {},
     "output_type": "execute_result"
    }
   ],
   "source": [
    "df =pd.DataFrame(a,columns=['user_id','course_id','date'])\n",
    "df.head(5)"
   ]
  },
  {
   "cell_type": "code",
   "execution_count": 35,
   "metadata": {
    "collapsed": true
   },
   "outputs": [],
   "source": [
    "target = {}\n",
    "for user in uid:\n",
    "    count = 0\n",
    "    for i in range(len(a)):\n",
    "        if a[i][0] == int(user):\n",
    "            count +=1\n",
    "        else:\n",
    "            pass\n",
    "    target[user]=count\n"
   ]
  },
  {
   "cell_type": "code",
   "execution_count": 36,
   "metadata": {
    "collapsed": false
   },
   "outputs": [
    {
     "data": {
      "text/plain": [
       "{'103': 2,\n",
       " '10807': 2,\n",
       " '12532': 10,\n",
       " '12960': 4,\n",
       " '13029': 1,\n",
       " '17650': 1,\n",
       " '17652': 2,\n",
       " '17796': 1,\n",
       " '18167': 1,\n",
       " '2115': 14,\n",
       " '7365': 3,\n",
       " '91': 1,\n",
       " '9838': 2}"
      ]
     },
     "execution_count": 36,
     "metadata": {},
     "output_type": "execute_result"
    }
   ],
   "source": [
    "#Q1 answer\n",
    "target"
   ]
  },
  {
   "cell_type": "code",
   "execution_count": 37,
   "metadata": {
    "collapsed": true
   },
   "outputs": [],
   "source": [
    "#Q2\n",
    "video = []\n",
    "for i in range(len(data)):\n",
    "    try:\n",
    "        video.append((data[i]['context']['user_id'],json.loads(data[i]['event'])['id'],json.loads(data[i]['event'])['currentTime']))\n",
    "    except:\n",
    "        pass"
   ]
  },
  {
   "cell_type": "code",
   "execution_count": 38,
   "metadata": {
    "collapsed": true
   },
   "outputs": [],
   "source": [
    "target_video = {}\n",
    "for user in uid:\n",
    "    count = 0\n",
    "    videoid = []\n",
    "    for i in range(len(video)):\n",
    "        if video[i][0] == int(user):\n",
    "            if video[i][1] not in videoid:\n",
    "                count +=1\n",
    "            videoid.append(video[i][1])\n",
    "        else:\n",
    "            pass\n",
    "    target_video[user]=count"
   ]
  },
  {
   "cell_type": "code",
   "execution_count": 40,
   "metadata": {
    "collapsed": false
   },
   "outputs": [
    {
     "data": {
      "text/plain": [
       "{'103': 1,\n",
       " '10807': 12,\n",
       " '12532': 47,\n",
       " '12960': 1,\n",
       " '13029': 1,\n",
       " '17650': 8,\n",
       " '17652': 1,\n",
       " '17796': 2,\n",
       " '18167': 10,\n",
       " '2115': 1,\n",
       " '7365': 2,\n",
       " '91': 5,\n",
       " '9838': 4}"
      ]
     },
     "execution_count": 40,
     "metadata": {},
     "output_type": "execute_result"
    }
   ],
   "source": [
    "#Q2 answer\n",
    "target_video"
   ]
  },
  {
   "cell_type": "code",
   "execution_count": 45,
   "metadata": {
    "collapsed": true
   },
   "outputs": [],
   "source": [
    "#Q3\n",
    "video2 = []\n",
    "for i in range(len(data)):\n",
    "    try:\n",
    "        video2.append((data[i]['context']['user_id'],json.loads(data[i]['event'])['id']))\n",
    "    except:\n",
    "        pass\n",
    "video_total = []\n",
    "for i in range(len(video2)):\n",
    "    if video2[i][1] not in video_total:\n",
    "        video_total.append(video2[i][1])"
   ]
  },
  {
   "cell_type": "code",
   "execution_count": 46,
   "metadata": {
    "collapsed": false
   },
   "outputs": [
    {
     "data": {
      "text/plain": [
       "48"
      ]
     },
     "execution_count": 46,
     "metadata": {},
     "output_type": "execute_result"
    }
   ],
   "source": [
    "#影片總數\n",
    "len(video_total)"
   ]
  },
  {
   "cell_type": "code",
   "execution_count": 47,
   "metadata": {
    "collapsed": true
   },
   "outputs": [],
   "source": [
    "target_success={}\n",
    "for user in uid:\n",
    "    target_success[user] = target_video[user]/48"
   ]
  },
  {
   "cell_type": "code",
   "execution_count": 48,
   "metadata": {
    "collapsed": false
   },
   "outputs": [
    {
     "data": {
      "text/plain": [
       "{'103': 0.020833333333333332,\n",
       " '10807': 0.25,\n",
       " '12532': 0.9791666666666666,\n",
       " '12960': 0.020833333333333332,\n",
       " '13029': 0.020833333333333332,\n",
       " '17650': 0.16666666666666666,\n",
       " '17652': 0.020833333333333332,\n",
       " '17796': 0.041666666666666664,\n",
       " '18167': 0.20833333333333334,\n",
       " '2115': 0.020833333333333332,\n",
       " '7365': 0.041666666666666664,\n",
       " '91': 0.10416666666666667,\n",
       " '9838': 0.08333333333333333}"
      ]
     },
     "execution_count": 48,
     "metadata": {},
     "output_type": "execute_result"
    }
   ],
   "source": [
    "#Q3 answer\n",
    "target_success"
   ]
  },
  {
   "cell_type": "code",
   "execution_count": 49,
   "metadata": {
    "collapsed": true
   },
   "outputs": [],
   "source": [
    "#Q4\n",
    "video3 = []\n",
    "video4 = []\n",
    "for i in range(len(data)):\n",
    "    try:\n",
    "        try:\n",
    "            video3.append((data[i]['context']['course_id'],data[i]['session'],data[i]['context']['user_id'],data[i]['event_type'],json.loads(data[i]['event'])['id'],data[i][\"time\"]))\n",
    "        except:\n",
    "            video4.append(data[i])\n",
    "    except:\n",
    "        pass"
   ]
  },
  {
   "cell_type": "code",
   "execution_count": 50,
   "metadata": {
    "collapsed": false
   },
   "outputs": [
    {
     "data": {
      "text/html": [
       "<div>\n",
       "<table border=\"1\" class=\"dataframe\">\n",
       "  <thead>\n",
       "    <tr style=\"text-align: right;\">\n",
       "      <th></th>\n",
       "      <th>course_id</th>\n",
       "      <th>session</th>\n",
       "      <th>user_id</th>\n",
       "      <th>event_type</th>\n",
       "      <th>video_id</th>\n",
       "      <th>time</th>\n",
       "    </tr>\n",
       "  </thead>\n",
       "  <tbody>\n",
       "    <tr>\n",
       "      <th>0</th>\n",
       "      <td>ORG8070/C2857/D2453</td>\n",
       "      <td>622f2788d644717b3597f873055f5347</td>\n",
       "      <td>17489</td>\n",
       "      <td>load_video</td>\n",
       "      <td>i4x-ORG8070-C2857-video-f6288aabca9e47a2942e3e...</td>\n",
       "      <td>2016-05-17T04:34:48.743219+00:00</td>\n",
       "    </tr>\n",
       "    <tr>\n",
       "      <th>1</th>\n",
       "      <td>ORG8070/C2857/D2453</td>\n",
       "      <td>b6e61490e0626f979c68354f67d54a57</td>\n",
       "      <td>18167</td>\n",
       "      <td>load_video</td>\n",
       "      <td>i4x-ORG8070-C2857-video-4d17a1843a224c8a855a53...</td>\n",
       "      <td>2016-04-25T12:45:52.421790+00:00</td>\n",
       "    </tr>\n",
       "    <tr>\n",
       "      <th>2</th>\n",
       "      <td>ORG8070/C2857/D2453</td>\n",
       "      <td>b6e61490e0626f979c68354f67d54a57</td>\n",
       "      <td>18167</td>\n",
       "      <td>load_video</td>\n",
       "      <td>i4x-ORG8070-C2857-video-4d17a1843a224c8a855a53...</td>\n",
       "      <td>2016-04-25T12:47:01.818469+00:00</td>\n",
       "    </tr>\n",
       "    <tr>\n",
       "      <th>3</th>\n",
       "      <td>ORG8070/C2857/D2453</td>\n",
       "      <td>b6e61490e0626f979c68354f67d54a57</td>\n",
       "      <td>18167</td>\n",
       "      <td>load_video</td>\n",
       "      <td>i4x-ORG8070-C2857-video-34cbd07abe3a452e831ad9...</td>\n",
       "      <td>2016-04-25T12:49:05.932167+00:00</td>\n",
       "    </tr>\n",
       "    <tr>\n",
       "      <th>4</th>\n",
       "      <td>ORG8070/C2857/D2453</td>\n",
       "      <td>b6e61490e0626f979c68354f67d54a57</td>\n",
       "      <td>18167</td>\n",
       "      <td>play_video</td>\n",
       "      <td>i4x-ORG8070-C2857-video-34cbd07abe3a452e831ad9...</td>\n",
       "      <td>2016-04-25T12:49:20.187198+00:00</td>\n",
       "    </tr>\n",
       "  </tbody>\n",
       "</table>\n",
       "</div>"
      ],
      "text/plain": [
       "             course_id                           session  user_id  event_type  \\\n",
       "0  ORG8070/C2857/D2453  622f2788d644717b3597f873055f5347    17489  load_video   \n",
       "1  ORG8070/C2857/D2453  b6e61490e0626f979c68354f67d54a57    18167  load_video   \n",
       "2  ORG8070/C2857/D2453  b6e61490e0626f979c68354f67d54a57    18167  load_video   \n",
       "3  ORG8070/C2857/D2453  b6e61490e0626f979c68354f67d54a57    18167  load_video   \n",
       "4  ORG8070/C2857/D2453  b6e61490e0626f979c68354f67d54a57    18167  play_video   \n",
       "\n",
       "                                            video_id  \\\n",
       "0  i4x-ORG8070-C2857-video-f6288aabca9e47a2942e3e...   \n",
       "1  i4x-ORG8070-C2857-video-4d17a1843a224c8a855a53...   \n",
       "2  i4x-ORG8070-C2857-video-4d17a1843a224c8a855a53...   \n",
       "3  i4x-ORG8070-C2857-video-34cbd07abe3a452e831ad9...   \n",
       "4  i4x-ORG8070-C2857-video-34cbd07abe3a452e831ad9...   \n",
       "\n",
       "                               time  \n",
       "0  2016-05-17T04:34:48.743219+00:00  \n",
       "1  2016-04-25T12:45:52.421790+00:00  \n",
       "2  2016-04-25T12:47:01.818469+00:00  \n",
       "3  2016-04-25T12:49:05.932167+00:00  \n",
       "4  2016-04-25T12:49:20.187198+00:00  "
      ]
     },
     "execution_count": 50,
     "metadata": {},
     "output_type": "execute_result"
    }
   ],
   "source": [
    "df = pd.DataFrame(video3)\n",
    "df = df.rename(columns={0:'course_id',1:'session',2:'user_id',3:'event_type',4:'video_id',5:'time'})\n",
    "df.head()"
   ]
  },
  {
   "cell_type": "code",
   "execution_count": 52,
   "metadata": {
    "collapsed": true
   },
   "outputs": [],
   "source": [
    "#切天數\n",
    "df['date']=df['time'].str.split(\"T\").str[0]\n",
    "#切時間\n",
    "df['time1']=df['time'].str.split(\"T\").str[1]\n",
    "df['time1']=df['time1'].str.split(\".\").str[0]"
   ]
  },
  {
   "cell_type": "code",
   "execution_count": 53,
   "metadata": {
    "collapsed": true
   },
   "outputs": [],
   "source": [
    "total_time = {}\n",
    "at_dic={}\n",
    "p=[]\n",
    "for user in uid:\n",
    "    total = 0\n",
    "    videoid = []\n",
    "    df2 = df[df['user_id'] == int(user)]\n",
    "    k = df[df['user_id'] == int(user)].index\n",
    "    for a in k:\n",
    "        if df2['event_type'][a]=='play_video':\n",
    "            p.append(a)\n",
    "        elif df2['event_type'][a]=='pause_video':\n",
    "            if p!=[]:\n",
    "                d1=datetime.datetime.strptime(df2['time1'][a],\"%H:%M:%S\")\n",
    "                d2=datetime.datetime.strptime(df2['time1'][p[-1]],\"%H:%M:%S\")\n",
    "                diff=relativedelta(d1,d2)\n",
    "                total+=int(diff.minutes)*60+int(diff.seconds)\n",
    "                p=[]               \n",
    "                a+=1\n",
    "        else:\n",
    "            pass\n",
    "    total_time[user]=total"
   ]
  },
  {
   "cell_type": "code",
   "execution_count": 58,
   "metadata": {
    "collapsed": false
   },
   "outputs": [],
   "source": [
    "total_time = {}\n",
    "at_dic={}\n",
    "p=[]\n",
    "for user in uid:\n",
    "    total = 0\n",
    "    videoid = []\n",
    "    df2 = df[df['user_id'] == int(user)]\n",
    "    k = df[df['user_id'] == int(user)].index\n",
    "    for a in k:\n",
    "        if df2['event_type'][a]=='play_video':\n",
    "            p.append(a)\n",
    "        elif df2['event_type'][a]=='pause_video':\n",
    "            if p!=[]:\n",
    "                d1=datetime.datetime.strptime(df2['time1'][a],\"%H:%M:%S\")\n",
    "                d2=datetime.datetime.strptime(df2['time1'][p[-1]],\"%H:%M:%S\")\n",
    "                diff=relativedelta(d1,d2)\n",
    "                total+=int(diff.minutes)*60+int(diff.seconds)\n",
    "                p=[]                 \n",
    "                a+=1\n",
    "        else:\n",
    "            pass\n",
    "    total_time[user]=total"
   ]
  },
  {
   "cell_type": "code",
   "execution_count": 60,
   "metadata": {
    "collapsed": false
   },
   "outputs": [
    {
     "data": {
      "text/plain": [
       "{'103': 88,\n",
       " '10807': 2626,\n",
       " '12532': 22967,\n",
       " '12960': 0,\n",
       " '13029': 0,\n",
       " '17650': 188,\n",
       " '17652': 87,\n",
       " '17796': 3,\n",
       " '18167': 2474,\n",
       " '2115': 0,\n",
       " '7365': 3,\n",
       " '91': 7,\n",
       " '9838': 1270}"
      ]
     },
     "execution_count": 60,
     "metadata": {},
     "output_type": "execute_result"
    }
   ],
   "source": [
    "#Q4 answer\n",
    "total_time"
   ]
  }
 ],
 "metadata": {
  "kernelspec": {
   "display_name": "Python 3",
   "language": "python",
   "name": "python3"
  },
  "language_info": {
   "codemirror_mode": {
    "name": "ipython",
    "version": 3
   },
   "file_extension": ".py",
   "mimetype": "text/x-python",
   "name": "python",
   "nbconvert_exporter": "python",
   "pygments_lexer": "ipython3",
   "version": "3.6.3"
  }
 },
 "nbformat": 4,
 "nbformat_minor": 2
}
